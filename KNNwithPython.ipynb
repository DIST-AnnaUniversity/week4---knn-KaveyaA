{
  "nbformat": 4,
  "nbformat_minor": 0,
  "metadata": {
    "colab": {
      "provenance": []
    },
    "kernelspec": {
      "name": "python3",
      "display_name": "Python 3"
    },
    "language_info": {
      "name": "python"
    }
  },
  "cells": [
    {
      "cell_type": "code",
      "execution_count": null,
      "metadata": {
        "colab": {
          "base_uri": "https://localhost:8080/"
        },
        "id": "iwArcEjCxtmB",
        "outputId": "4d0d8656-54f8-4732-bb97-aa15bc94a1ef"
      },
      "outputs": [
        {
          "output_type": "stream",
          "name": "stdout",
          "text": [
            "Enter height:157\n",
            "Enter weight:56\n",
            "Enter k value:4\n",
            "Size prediction using KNN:\n",
            "Size of test instance is Small\n"
          ]
        }
      ],
      "source": [
        "import pandas as pd\n",
        "import math\n",
        "d=pd.read_csv('KNNExcel.csv')\n",
        "\n",
        "#(166,63),k=4\n",
        "a=int(input(\"Enter height:\"))\n",
        "b=int(input(\"Enter weight:\"))\n",
        "k=int(input(\"Enter k value:\"))\n",
        "df=pd.DataFrame(d)\n",
        "h=df['Height'].tolist()\n",
        "w=df['Weight'].tolist()\n",
        "\n",
        "#getting distance using euclidian formula\n",
        "distance=[]\n",
        "for i in range(len(df)):\n",
        "  distance.append(math.sqrt(((h[i]-a)**2) +(w[i]-b)**2))\n",
        "\n",
        "df['Dist']=distance\n",
        "#print(df)\n",
        "\n",
        "#sorting the distance\n",
        "newdf=df.sort_values(by='Dist')\n",
        "#print(newdf)\n",
        "\n",
        "#selecting first k neighbours\n",
        "k=4\n",
        "df=newdf.iloc[:k]\n",
        "#print(df)\n",
        "\n",
        "#counting size l and m from df\n",
        "l=0\n",
        "m=0\n",
        "for i in df.index:\n",
        "  if df['T shirt Size'][i]=='L':\n",
        "      l+=1\n",
        "  else:\n",
        "     m+=1\n",
        "print(\"Size prediction using KNN:\")\n",
        "if(l>m):\n",
        "  print(\"Size of test instance is Large\")\n",
        "else: print(\"Size of test instance is Small\")"
      ]
    }
  ]
}