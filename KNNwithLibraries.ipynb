{
  "cells": [
    {
      "cell_type": "markdown",
      "metadata": {
        "id": "hdSwwiHAP0KS"
      },
      "source": [
        "**KNN with Libraries**"
      ]
    },
    {
      "cell_type": "code",
      "execution_count": null,
      "metadata": {
        "colab": {
          "base_uri": "https://localhost:8080/"
        },
        "id": "ymYzJtarNqvY",
        "outputId": "a54890f1-b38e-4499-bf3d-cf56dd34380d"
      },
      "outputs": [
        {
          "name": "stdout",
          "output_type": "stream",
          "text": [
            "    Height  Weight T shirt Size\n",
            "0      158      58            M\n",
            "1      158      59            M\n",
            "2      158      63            M\n",
            "3      160      59            M\n",
            "4      160      60            M\n",
            "5      163      60            M\n",
            "6      163      61            M\n",
            "7      160      64            L\n",
            "8      163      64            L\n",
            "9      165      61            L\n",
            "10     165      62            L\n",
            "11     165      65            L\n",
            "12     168      62            L\n",
            "13     168      63            L\n",
            "14     168      66            L\n",
            "15     170      63            L\n",
            "16     170      64            L\n",
            "17     170      68            L\n"
          ]
        }
      ],
      "source": [
        "import numpy as np\n",
        "import matplotlib.pyplot as plt\n",
        "import pandas as pd\n",
        "\n",
        "df=pd.read_csv('KNNexcel.csv')\n",
        "print(df)"
      ]
    },
    {
      "cell_type": "markdown",
      "metadata": {
        "id": "80VHm_WBRYNP"
      },
      "source": [
        "Creating target variable and independent variable."
      ]
    },
    {
      "cell_type": "code",
      "execution_count": null,
      "metadata": {
        "colab": {
          "background_save": true,
          "base_uri": "https://localhost:8080/",
          "height": 131
        },
        "id": "XzMequiDRMTj",
        "outputId": "bb988949-b91b-4f69-d15d-ea69a2fbca32"
      },
      "outputs": [
        {
          "name": "stdout",
          "output_type": "stream",
          "text": [
            "[[158  58]\n",
            " [158  59]\n",
            " [158  63]\n",
            " [160  59]\n",
            " [160  60]\n",
            " [163  60]\n",
            " [163  61]\n",
            " [160  64]\n",
            " [163  64]\n",
            " [165  61]\n",
            " [165  62]\n",
            " [165  65]\n",
            " [168  62]\n",
            " [168  63]\n",
            " [168  66]\n",
            " [170  63]\n",
            " [170  64]\n",
            " [170  68]]\n",
            "['M' 'M' 'M' 'M' 'M' 'M' 'M' 'L' 'L' 'L' 'L' 'L' 'L' 'L' 'L' 'L' 'L' 'L']\n"
          ]
        }
      ],
      "source": [
        "x=df.iloc[:,:-1].values\n",
        "print(x)\n",
        "y=df.iloc[:,-1].values\n",
        "print(y)"
      ]
    },
    {
      "cell_type": "markdown",
      "metadata": {
        "id": "e19OEc_HQJ1G"
      },
      "source": [
        "Splitting data into training and test set"
      ]
    },
    {
      "cell_type": "code",
      "execution_count": null,
      "metadata": {
        "id": "_eHFMM3AQ3AG"
      },
      "outputs": [],
      "source": [
        "from sklearn.model_selection import train_test_split\n",
        "x_train,x_test,y_train,y_test=train_test_split(x,y,test_size=0.25,random_state=0)"
      ]
    },
    {
      "cell_type": "code",
      "source": [
        "print(x_train)"
      ],
      "metadata": {
        "colab": {
          "base_uri": "https://localhost:8080/"
        },
        "id": "5gQaWKJiXVtS",
        "outputId": "39139d20-7a4d-40ba-ef1c-51da0fbb6b90"
      },
      "execution_count": 24,
      "outputs": [
        {
          "output_type": "stream",
          "name": "stdout",
          "text": [
            "[[160  60]\n",
            " [158  63]\n",
            " [170  64]\n",
            " [170  68]\n",
            " [165  61]\n",
            " [160  64]\n",
            " [168  63]\n",
            " [165  65]\n",
            " [160  59]\n",
            " [158  58]\n",
            " [163  60]\n",
            " [170  63]\n",
            " [168  62]]\n"
          ]
        }
      ]
    },
    {
      "cell_type": "code",
      "source": [
        "print(y_train)"
      ],
      "metadata": {
        "colab": {
          "base_uri": "https://localhost:8080/"
        },
        "id": "nfDqzjjGXgYy",
        "outputId": "d97b59cd-2db9-4bd6-e884-17beb1086e79"
      },
      "execution_count": 25,
      "outputs": [
        {
          "output_type": "stream",
          "name": "stdout",
          "text": [
            "['M' 'M' 'L' 'L' 'L' 'L' 'L' 'L' 'M' 'M' 'M' 'L' 'L']\n"
          ]
        }
      ]
    },
    {
      "cell_type": "code",
      "source": [
        "print(x_test)"
      ],
      "metadata": {
        "colab": {
          "base_uri": "https://localhost:8080/"
        },
        "id": "Qfu8LxxtXkfw",
        "outputId": "0852e5c4-c556-4104-a1c2-b2888c74edac"
      },
      "execution_count": 26,
      "outputs": [
        {
          "output_type": "stream",
          "name": "stdout",
          "text": [
            "[[158  59]\n",
            " [163  61]\n",
            " [163  64]\n",
            " [165  62]\n",
            " [168  66]]\n"
          ]
        }
      ]
    },
    {
      "cell_type": "code",
      "source": [
        "print(y_test)"
      ],
      "metadata": {
        "colab": {
          "base_uri": "https://localhost:8080/"
        },
        "id": "JvJS9u5RXn5v",
        "outputId": "a8e1aa7f-9cd7-442a-a26f-302eb306f908"
      },
      "execution_count": 27,
      "outputs": [
        {
          "output_type": "stream",
          "name": "stdout",
          "text": [
            "['M' 'M' 'L' 'L' 'L']\n"
          ]
        }
      ]
    },
    {
      "cell_type": "markdown",
      "source": [
        "Training the KNN model on training dataset."
      ],
      "metadata": {
        "id": "zhSp4M74XxfU"
      }
    },
    {
      "cell_type": "code",
      "source": [
        "from sklearn.neighbors import KNeighborsClassifier\n",
        "classifier=KNeighborsClassifier(n_neighbors=4)\n",
        "classifier.fit(x_train,y_train)"
      ],
      "metadata": {
        "colab": {
          "base_uri": "https://localhost:8080/"
        },
        "id": "rFHrrBArX2GH",
        "outputId": "76002a57-462e-4e3f-92cd-2f06a2f32cf6"
      },
      "execution_count": 29,
      "outputs": [
        {
          "output_type": "execute_result",
          "data": {
            "text/plain": [
              "KNeighborsClassifier(n_neighbors=4)"
            ]
          },
          "metadata": {},
          "execution_count": 29
        }
      ]
    },
    {
      "cell_type": "markdown",
      "source": [
        "Giving a new test instance of height=166, weight=63."
      ],
      "metadata": {
        "id": "T2tS7j_VZLEk"
      }
    },
    {
      "cell_type": "code",
      "source": [
        "print(classifier.predict([[166,63]]))"
      ],
      "metadata": {
        "colab": {
          "base_uri": "https://localhost:8080/"
        },
        "id": "wLuh5hKvZcRd",
        "outputId": "b39b3429-988b-4256-96c7-8f0fcc1000a5"
      },
      "execution_count": 33,
      "outputs": [
        {
          "output_type": "stream",
          "name": "stdout",
          "text": [
            "['L']\n"
          ]
        }
      ]
    },
    {
      "cell_type": "markdown",
      "source": [
        "Giving another test instance of height=156, weight=58"
      ],
      "metadata": {
        "id": "ETJv8EyuaAlO"
      }
    },
    {
      "cell_type": "code",
      "source": [
        "print(classifier.predict([[156,58]]))"
      ],
      "metadata": {
        "colab": {
          "base_uri": "https://localhost:8080/"
        },
        "id": "b5gsnq5CaIhY",
        "outputId": "03b552cc-1bce-4676-8aac-5beec216fb5d"
      },
      "execution_count": 34,
      "outputs": [
        {
          "output_type": "stream",
          "name": "stdout",
          "text": [
            "['M']\n"
          ]
        }
      ]
    },
    {
      "cell_type": "markdown",
      "source": [
        "Predicting class for test dataset."
      ],
      "metadata": {
        "id": "RL0vZmvAZEfG"
      }
    },
    {
      "cell_type": "code",
      "source": [
        "y_pred=classifier.predict(x_test)\n",
        "print(np.concatenate((y_pred.reshape(len(y_pred),1),y_test.reshape(len(y_test),1)),1))"
      ],
      "metadata": {
        "colab": {
          "base_uri": "https://localhost:8080/"
        },
        "id": "d8iFAVpqYkTH",
        "outputId": "c04f4394-5284-4dd5-93d8-ed476d4bcd00"
      },
      "execution_count": 35,
      "outputs": [
        {
          "output_type": "stream",
          "name": "stdout",
          "text": [
            "[['M' 'M']\n",
            " ['M' 'M']\n",
            " ['L' 'L']\n",
            " ['L' 'L']\n",
            " ['L' 'L']]\n"
          ]
        }
      ]
    },
    {
      "cell_type": "markdown",
      "source": [
        "Making the confusion matrix"
      ],
      "metadata": {
        "id": "fb-TySdBcNY8"
      }
    },
    {
      "cell_type": "code",
      "source": [
        "from sklearn.metrics import confusion_matrix,accuracy_score\n",
        "cm = confusion_matrix(y_test,y_pred)\n",
        "print(cm)\n",
        "accuracy_score(y_test,y_pred)"
      ],
      "metadata": {
        "colab": {
          "base_uri": "https://localhost:8080/"
        },
        "id": "Yui0Ej1ccIlu",
        "outputId": "328685ac-08e4-48b2-ed64-2911a1a4af07"
      },
      "execution_count": 36,
      "outputs": [
        {
          "output_type": "stream",
          "name": "stdout",
          "text": [
            "[[3 0]\n",
            " [0 2]]\n"
          ]
        },
        {
          "output_type": "execute_result",
          "data": {
            "text/plain": [
              "1.0"
            ]
          },
          "metadata": {},
          "execution_count": 36
        }
      ]
    }
  ],
  "metadata": {
    "colab": {
      "provenance": []
    },
    "kernelspec": {
      "display_name": "Python 3",
      "name": "python3"
    },
    "language_info": {
      "name": "python"
    }
  },
  "nbformat": 4,
  "nbformat_minor": 0
}